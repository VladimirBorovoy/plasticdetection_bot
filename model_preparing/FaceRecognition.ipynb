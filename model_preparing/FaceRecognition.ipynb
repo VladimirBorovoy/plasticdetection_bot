{
 "cells": [
  {
   "cell_type": "code",
   "execution_count": 1,
   "id": "d4e43600-3030-4705-b535-1e2518943c57",
   "metadata": {},
   "outputs": [],
   "source": [
    "from facenet_pytorch import MTCNN\n",
    "from PIL import Image"
   ]
  },
  {
   "cell_type": "code",
   "execution_count": 5,
   "id": "34c6dce6-fa71-4c2a-a4af-52a51bb2a096",
   "metadata": {},
   "outputs": [
    {
     "name": "stdout",
     "output_type": "stream",
     "text": [
      "На изображении одно лицо\n"
     ]
    }
   ],
   "source": [
    "# Загрузка изображения\n",
    "image = Image.open(\"data\\\\gio.jpg\")\n",
    "\n",
    "# Инициализация модели\n",
    "mtcnn = MTCNN()\n",
    "\n",
    "# Детекция лиц\n",
    "boxes, _ = mtcnn.detect(image)\n",
    "\n",
    "if boxes is not None and len(boxes) == 1:\n",
    "    print(\"На изображении одно лицо\")\n",
    "else:\n",
    "    print(\"Либо нет лица, либо несколько лиц\")"
   ]
  },
  {
   "cell_type": "code",
   "execution_count": null,
   "id": "8cd4fe4a-cdf5-4aed-8f3e-114ce0b06d0e",
   "metadata": {},
   "outputs": [],
   "source": []
  }
 ],
 "metadata": {
  "kernelspec": {
   "display_name": "Python 3 (ipykernel)",
   "language": "python",
   "name": "python3"
  },
  "language_info": {
   "codemirror_mode": {
    "name": "ipython",
    "version": 3
   },
   "file_extension": ".py",
   "mimetype": "text/x-python",
   "name": "python",
   "nbconvert_exporter": "python",
   "pygments_lexer": "ipython3",
   "version": "3.10.15"
  }
 },
 "nbformat": 4,
 "nbformat_minor": 5
}
